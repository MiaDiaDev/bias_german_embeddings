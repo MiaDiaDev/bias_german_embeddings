{
 "cells": [
  {
   "cell_type": "markdown",
   "metadata": {},
   "source": [
    "<b>Train FastText embeddings using gensim</b> (Source: https://radimrehurek.com/gensim/auto_examples/tutorials/run_fasttext.html)"
   ]
  },
  {
   "cell_type": "code",
   "execution_count": 1,
   "metadata": {},
   "outputs": [],
   "source": [
    "from pprint import pprint as print\n",
    "from gensim.models.fasttext import FastText\n",
    "from gensim.models import KeyedVectors"
   ]
  },
  {
   "cell_type": "markdown",
   "metadata": {},
   "source": [
    "Load corpus & Preprocess raw text (Remove punctuation and numbers) (ca. 1.5h per corpus)"
   ]
  },
  {
   "cell_type": "code",
   "execution_count": null,
   "metadata": {},
   "outputs": [],
   "source": [
    "import spacy\n",
    "\n",
    "nlp = spacy.load(\"de_core_news_sm\")\n",
    "\n",
    "new_corpus = []\n",
    "#i=1\n",
    "with open('raw_data/deu_news_2020_1M-sentences.txt', 'r', encoding='utf-8') as f:\n",
    "    for line in f.readlines():\n",
    "        doc = nlp(line)\n",
    "        new_line = [token.lower_ for token in doc if token.is_alpha]\n",
    "        for j in range(10):\n",
    "            new_line.append('$')\n",
    "        new_corpus.append(' '.join(new_line))\n",
    "        #i+=1\n",
    "        #if i>200:\n",
    "            #break \n",
    "    f.close()\n",
    "\n",
    "with open('clean_data/deu_news_2020_clean.txt', 'w', encoding='utf-8') as f_out:\n",
    "    for line in new_corpus:\n",
    "        f_out.write(line)\n",
    "        f_out.write('\\n')\n",
    "    f_out.close()"
   ]
  },
  {
   "cell_type": "markdown",
   "metadata": {},
   "source": [
    "Load keyed vectors"
   ]
  },
  {
   "cell_type": "code",
   "execution_count": 2,
   "metadata": {},
   "outputs": [],
   "source": [
    "wv_1995 = KeyedVectors.load(\"gensim4.0.1_ft_models/vectors_1995.kv\", mmap='r')\n",
    "wv_2010 = KeyedVectors.load(\"gensim4.0.1_ft_models/vectors_2010.kv\", mmap='r')\n",
    "wv_2020 = KeyedVectors.load(\"gensim4.0.1_ft_models/vectors_2020.kv\", mmap='r')"
   ]
  },
  {
   "cell_type": "markdown",
   "metadata": {},
   "source": [
    "Train models and save word vectors with gensim 4.0.1"
   ]
  },
  {
   "cell_type": "code",
   "execution_count": null,
   "metadata": {},
   "outputs": [],
   "source": [
    "corpus_file_1995 = 'clean_data/deu_news_1995_clean.txt'\n",
    "model_1995 = FastText(sg=1, size=300, window=10)\n",
    "model_1995.build_vocab(corpus_file=corpus_file_1995)\n",
    "model_1995.train(\n",
    "    corpus_file=corpus_file_1995, epochs=model_1995.epochs,\n",
    "    total_examples=model_1995.corpus_count, total_words=model_1995.corpus_total_words,\n",
    ")\n",
    "wv_1995 = model_1995.wv"
   ]
  },
  {
   "cell_type": "code",
   "execution_count": null,
   "metadata": {},
   "outputs": [],
   "source": [
    "corpus_file_2010 = 'clean_data/deu_news_2010_clean.txt'\n",
    "model_2010 = FastText(sg=1, size=300, window=10)\n",
    "model_2010.build_vocab(corpus_file=corpus_file_2010)\n",
    "model_2010.train(\n",
    "    corpus_file=corpus_file_2010, epochs=model_2010.epochs,\n",
    "    total_examples=model_2010.corpus_count, total_words=model_2010.corpus_total_words,\n",
    ")\n",
    "wv_2010 = model_2010.wv"
   ]
  },
  {
   "cell_type": "code",
   "execution_count": null,
   "metadata": {},
   "outputs": [],
   "source": [
    "corpus_file_2020 = 'clean_data/deu_news_2020_clean.txt'\n",
    "model_2020 = FastText(sg=1, size=300, window=10)\n",
    "model_2020.build_vocab(corpus_file=corpus_file_2020)\n",
    "model_2020.train(\n",
    "    corpus_file=corpus_file_2020, epochs=model_2020.epochs,\n",
    "    total_examples=model_2020.corpus_count, total_words=model_2020.corpus_total_words,\n",
    ")\n",
    "wv_2020 = model_2020.wv"
   ]
  },
  {
   "cell_type": "markdown",
   "metadata": {},
   "source": [
    "Save keyed vectors"
   ]
  },
  {
   "cell_type": "code",
   "execution_count": null,
   "metadata": {},
   "outputs": [],
   "source": [
    "wv_1995.save(\"gensim4.0.1_ft_models/vectors_1995.kv\")\n",
    "wv_2010.save(\"gensim4.0.1_ft_models/vectors_2010.kv\")\n",
    "wv_2020.save(\"gensim4.0.1_ft_models/vectors_2020.kv\")"
   ]
  },
  {
   "cell_type": "markdown",
   "metadata": {},
   "source": [
    "Evaluate general performance on semantic German analogy set, Source: https://devmount.github.io/GermanWordEmbeddings/ "
   ]
  },
  {
   "cell_type": "code",
   "execution_count": null,
   "metadata": {},
   "outputs": [],
   "source": [
    "analogies_result = wv_1995.evaluate_word_analogies('questions/semantic_evaluation.txt')\n",
    "print(analogies_result)"
   ]
  },
  {
   "cell_type": "code",
   "execution_count": null,
   "metadata": {},
   "outputs": [],
   "source": [
    "analogies_result = wv_2010.evaluate_word_analogies('questions/semantic_evaluation.txt')\n",
    "print(analogies_result)"
   ]
  },
  {
   "cell_type": "code",
   "execution_count": null,
   "metadata": {},
   "outputs": [],
   "source": [
    "analogies_result = wv_2020.evaluate_word_analogies('questions/semantic_evaluation.txt')\n",
    "print(analogies_result)"
   ]
  },
  {
   "cell_type": "markdown",
   "metadata": {},
   "source": [
    "Gensim English question set"
   ]
  },
  {
   "cell_type": "code",
   "execution_count": null,
   "metadata": {},
   "outputs": [],
   "source": [
    "analogies_result = wv_2020.evaluate_word_analogies('questions/gensim_questions_words.txt')\n",
    "print(analogies_result)"
   ]
  },
  {
   "cell_type": "markdown",
   "metadata": {},
   "source": [
    "Example analogy set"
   ]
  },
  {
   "cell_type": "code",
   "execution_count": 3,
   "metadata": {},
   "outputs": [
    {
     "name": "stdout",
     "output_type": "stream",
     "text": [
      "[('patientin', 0.6411809921264648),\n",
      " ('ärztin', 0.6019659042358398),\n",
      " ('hausarzt', 0.5998663902282715),\n",
      " ('physiotherapeutin', 0.5797680616378784),\n",
      " ('therapeutin', 0.5710132122039795),\n",
      " ('hautarzt', 0.5633543729782104),\n",
      " ('medizinerin', 0.5617395639419556),\n",
      " ('arzthelferin', 0.5613126754760742),\n",
      " ('patient', 0.5597133040428162),\n",
      " ('tierärztin', 0.5595279335975647)]\n",
      "[('frauenarzt', 0.6158223748207092),\n",
      " ('hausarzt', 0.5977107286453247),\n",
      " ('patientin', 0.5826125144958496),\n",
      " ('zahnarzt', 0.579121470451355),\n",
      " ('ärztin', 0.5744884014129639),\n",
      " ('medizinerin', 0.5728439092636108),\n",
      " ('tierarzt', 0.5622822046279907),\n",
      " ('arztberuf', 0.5454156994819641),\n",
      " ('arzthelferin', 0.5432417392730713),\n",
      " ('hautarzt', 0.5406560897827148)]\n",
      "[('ärztin', 0.6663402318954468),\n",
      " ('hausarzt', 0.6365236639976501),\n",
      " ('frauenarzt', 0.6265268921852112),\n",
      " ('hausärztin', 0.6176359057426453),\n",
      " ('zahnärztin', 0.6144357323646545),\n",
      " ('zahnarzt', 0.6106656193733215),\n",
      " ('amtsarzt', 0.6020358800888062),\n",
      " ('amtsärztin', 0.6002723574638367),\n",
      " ('tierärztin', 0.5956268310546875),\n",
      " ('facharzt', 0.5939297676086426)]\n"
     ]
    }
   ],
   "source": [
    "print(wv_1995.most_similar(positive=['frau', 'arzt'], negative=['mann']))\n",
    "print(wv_2010.most_similar(positive=['frau', 'arzt'], negative=['mann']))\n",
    "print(wv_2020.most_similar(positive=['frau', 'arzt'], negative=['mann']))"
   ]
  },
  {
   "cell_type": "markdown",
   "metadata": {},
   "source": [
    "Compute most similar words without restriction (words from sets may be repeated) with Responsibly (https://docs.responsibly.ai/)"
   ]
  },
  {
   "cell_type": "code",
   "execution_count": 4,
   "metadata": {},
   "outputs": [
    {
     "name": "stdout",
     "output_type": "stream",
     "text": [
      "[('arzt', 0.7294990356421993),\n",
      " ('patientin', 0.6411809819084028),\n",
      " ('ärztin', 0.6019659485813017),\n",
      " ('hausarzt', 0.5998664150539841),\n",
      " ('physiotherapeutin', 0.579768095891821),\n",
      " ('therapeutin', 0.5710132638183131),\n",
      " ('hautarzt', 0.5633543766755207),\n",
      " ('medizinerin', 0.561739535056716),\n",
      " ('arzthelferin', 0.5613126716369358),\n",
      " ('patient', 0.5597132866626509)]\n",
      "[('arzt', 0.7453792053776191),\n",
      " ('frauenarzt', 0.6158223903324075),\n",
      " ('hausarzt', 0.5977107747931595),\n",
      " ('patientin', 0.5826124837682605),\n",
      " ('zahnarzt', 0.5791214804080856),\n",
      " ('ärztin', 0.574488448786975),\n",
      " ('medizinerin', 0.5728439805654315),\n",
      " ('tierarzt', 0.562282196262649),\n",
      " ('frau', 0.5553649950714564),\n",
      " ('arztberuf', 0.5454157208356099)]\n",
      "[('arzt', 0.7787683393165297),\n",
      " ('ärztin', 0.6663402508733298),\n",
      " ('hausarzt', 0.6365236662554131),\n",
      " ('frauenarzt', 0.6265268355491721),\n",
      " ('hausärztin', 0.6176358832638997),\n",
      " ('zahnärztin', 0.6144357211383189),\n",
      " ('zahnarzt', 0.6106656290968133),\n",
      " ('amtsarzt', 0.6020358630467473),\n",
      " ('amtsärztin', 0.600272402110545),\n",
      " ('tierärztin', 0.5956269033677408)]\n"
     ]
    }
   ],
   "source": [
    "from responsibly.we.utils import most_similar, cosine_similarities_by_words\n",
    "\n",
    "print(most_similar(wv_1995, positive=['frau', 'arzt'], negative=['mann']))\n",
    "print(most_similar(wv_2010, positive=['frau', 'arzt'], negative=['mann']))\n",
    "print(most_similar(wv_2020, positive=['frau', 'arzt'], negative=['mann']))"
   ]
  },
  {
   "cell_type": "code",
   "execution_count": 5,
   "metadata": {},
   "outputs": [
    {
     "name": "stdout",
     "output_type": "stream",
     "text": [
      "array([0.26169273, 0.44548863, 0.46253282, 0.335657  ], dtype=float32)\n",
      "array([0.30543205, 0.27106968, 0.39263615, 0.30068994], dtype=float32)\n"
     ]
    }
   ],
   "source": [
    "sample_occupation_list = ['arzt','ärztin','krankenschwester','krankenpfleger']\n",
    "print(cosine_similarities_by_words(wv_2020, 'frau', sample_occupation_list))\n",
    "print(cosine_similarities_by_words(wv_2020, 'mann', sample_occupation_list))"
   ]
  },
  {
   "cell_type": "markdown",
   "metadata": {},
   "source": [
    "<b>Word Embedding Association Test (WEAT) by Chaloner & Maldonado (2019)</b>"
   ]
  },
  {
   "cell_type": "markdown",
   "metadata": {},
   "source": [
    "Bias categories:\n",
    "\n",
    "B1: career vs family\n",
    "B2: maths vs arts \n",
    "B3: science vs arts \n",
    "B4: intelligence vs appearance\n",
    "B5: strength vs weakness\n",
    "\n",
    "Both groups of target words per category are compared to the two attribute sets female and male"
   ]
  },
  {
   "cell_type": "code",
   "execution_count": null,
   "metadata": {},
   "outputs": [],
   "source": [
    "import json\n",
    "from responsibly.we.weat import calc_single_weat"
   ]
  },
  {
   "cell_type": "markdown",
   "metadata": {},
   "source": [
    "Load translated attribute wordlists "
   ]
  },
  {
   "cell_type": "code",
   "execution_count": null,
   "metadata": {},
   "outputs": [],
   "source": [
    "with open('WEAT_german/weiblich.json', encoding='utf-8') as data:\n",
    "    w_dict = json.load(data)\n",
    "    data.close()\n",
    "\n",
    "with open('WEAT_german/maennlich.json', encoding='utf-8') as data:\n",
    "    m_dict = json.load(data)\n",
    "    data.close()"
   ]
  },
  {
   "cell_type": "markdown",
   "metadata": {},
   "source": [
    "B1: career vs. family"
   ]
  },
  {
   "cell_type": "code",
   "execution_count": null,
   "metadata": {},
   "outputs": [],
   "source": [
    "with open('WEAT_german/beruf.json', encoding='utf-8') as data:\n",
    "    beruf_dict = json.load(data)\n",
    "    data.close()\n",
    "\n",
    "with open('WEAT_german/familie.json', encoding='utf-8') as data:\n",
    "    fam_dict = json.load(data)\n",
    "    data.close()\n",
    "\n",
    "print(calc_single_weat(model=wv_1995, \n",
    "                    first_target=beruf_dict, \n",
    "                    second_target=fam_dict, \n",
    "                    first_attribute=m_dict, \n",
    "                    second_attribute=w_dict))\n",
    "\n",
    "print(calc_single_weat(model=wv_2010, \n",
    "                    first_target=beruf_dict,  \n",
    "                    second_target=fam_dict, \n",
    "                    first_attribute=m_dict, \n",
    "                    second_attribute=w_dict))\n",
    "\n",
    "print(calc_single_weat(model=wv_2020, \n",
    "                    first_target=beruf_dict, \n",
    "                    second_target=fam_dict, \n",
    "                    first_attribute=m_dict, \n",
    "                    second_attribute=w_dict))"
   ]
  },
  {
   "cell_type": "markdown",
   "metadata": {},
   "source": [
    "B2: maths vs. arts"
   ]
  },
  {
   "cell_type": "code",
   "execution_count": null,
   "metadata": {},
   "outputs": [],
   "source": [
    "with open('WEAT_german/mathematik.json', encoding='utf-8') as data:\n",
    "    mat_dict = json.load(data)\n",
    "    data.close()\n",
    "\n",
    "with open('WEAT_german/kunst.json', encoding='utf-8') as data:\n",
    "    kunst_dict = json.load(data)\n",
    "    data.close()\n",
    "\n",
    "print(calc_single_weat(model=wv_1995, \n",
    "                    first_target=mat_dict, \n",
    "                    second_target=kunst_dict, \n",
    "                    first_attribute=m_dict, \n",
    "                    second_attribute=w_dict))\n",
    "\n",
    "print(calc_single_weat(model=wv_2010, \n",
    "                    first_target=mat_dict,  \n",
    "                    second_target=kunst_dict, \n",
    "                    first_attribute=m_dict, \n",
    "                    second_attribute=w_dict))\n",
    "\n",
    "print(calc_single_weat(model=wv_2020, \n",
    "                    first_target=mat_dict, \n",
    "                    second_target=kunst_dict, \n",
    "                    first_attribute=m_dict, \n",
    "                    second_attribute=w_dict))"
   ]
  },
  {
   "cell_type": "markdown",
   "metadata": {},
   "source": [
    "B3: science vs arts"
   ]
  },
  {
   "cell_type": "code",
   "execution_count": null,
   "metadata": {},
   "outputs": [],
   "source": [
    "with open('WEAT_german/wissenschaft.json', encoding='utf-8') as data:\n",
    "    wis_dict = json.load(data)\n",
    "    data.close()\n",
    "\n",
    "with open('WEAT_german/kunst.json', encoding='utf-8') as data:\n",
    "    kunst_dict = json.load(data)\n",
    "    data.close()\n",
    "\n",
    "print(calc_single_weat(model=wv_1995, \n",
    "                    first_target=wis_dict, \n",
    "                    second_target=kunst_dict, \n",
    "                    first_attribute=m_dict, \n",
    "                    second_attribute=w_dict))\n",
    "\n",
    "print(calc_single_weat(model=wv_2010, \n",
    "                    first_target=wis_dict,  \n",
    "                    second_target=kunst_dict, \n",
    "                    first_attribute=m_dict, \n",
    "                    second_attribute=w_dict))\n",
    "\n",
    "print(calc_single_weat(model=wv_2020, \n",
    "                    first_target=wis_dict, \n",
    "                    second_target=kunst_dict, \n",
    "                    first_attribute=m_dict, \n",
    "                    second_attribute=w_dict))"
   ]
  },
  {
   "cell_type": "markdown",
   "metadata": {},
   "source": [
    "B4: intelligence vs. appearance"
   ]
  },
  {
   "cell_type": "code",
   "execution_count": null,
   "metadata": {},
   "outputs": [],
   "source": [
    "with open('WEAT_german/intelligenz.json', encoding='utf-8') as data:\n",
    "    int_dict = json.load(data)\n",
    "    data.close()\n",
    "\n",
    "with open('WEAT_german/aussehen.json', encoding='utf-8') as data:\n",
    "    aus_dict = json.load(data)\n",
    "    data.close()\n",
    "\n",
    "print(calc_single_weat(model=wv_1995, \n",
    "                    first_target=int_dict, \n",
    "                    second_target=aus_dict, \n",
    "                    first_attribute=m_dict, \n",
    "                    second_attribute=w_dict))\n",
    "\n",
    "print(calc_single_weat(model=wv_2010, \n",
    "                    first_target=int_dict,  \n",
    "                    second_target=aus_dict, \n",
    "                    first_attribute=m_dict, \n",
    "                    second_attribute=w_dict))\n",
    "\n",
    "print(calc_single_weat(model=wv_2020, \n",
    "                    first_target=int_dict, \n",
    "                    second_target=aus_dict, \n",
    "                    first_attribute=m_dict, \n",
    "                    second_attribute=w_dict))"
   ]
  },
  {
   "cell_type": "markdown",
   "metadata": {},
   "source": [
    "B5: strength vs. weakness"
   ]
  },
  {
   "cell_type": "code",
   "execution_count": null,
   "metadata": {},
   "outputs": [],
   "source": [
    "with open('WEAT_german/stark.json', encoding='utf-8') as data:\n",
    "    stark_dict = json.load(data)\n",
    "    data.close()\n",
    "\n",
    "with open('WEAT_german/schwach.json', encoding='utf-8') as data:\n",
    "    schwach_dict = json.load(data)\n",
    "    data.close()\n",
    "\n",
    "print(calc_single_weat(model=wv_1995, \n",
    "                    first_target=stark_dict, \n",
    "                    second_target=schwach_dict, \n",
    "                    first_attribute=m_dict, \n",
    "                    second_attribute=w_dict))\n",
    "\n",
    "print(calc_single_weat(model=wv_2010, \n",
    "                    first_target=stark_dict,  \n",
    "                    second_target=schwach_dict, \n",
    "                    first_attribute=m_dict, \n",
    "                    second_attribute=w_dict))\n",
    "\n",
    "print(calc_single_weat(model=wv_2020, \n",
    "                    first_target=stark_dict, \n",
    "                    second_target=schwach_dict, \n",
    "                    first_attribute=m_dict, \n",
    "                    second_attribute=w_dict))"
   ]
  },
  {
   "cell_type": "markdown",
   "metadata": {},
   "source": [
    "<b>PCA Visualization</b> Source: https://web.stanford.edu/class/cs224n/materials/Gensim%20word%20vector%20visualization.html"
   ]
  },
  {
   "cell_type": "code",
   "execution_count": null,
   "metadata": {},
   "outputs": [],
   "source": [
    "import numpy as np\n",
    "import matplotlib.pyplot as plt\n",
    "from sklearn.decomposition import PCA\n",
    "\n",
    "\n",
    "plt.style.use('ggplot')\n",
    "\n",
    "def display_pca_scatterplot(model, words=None, sample=0):\n",
    "    if words == None:\n",
    "        if sample > 0:\n",
    "            words = np.random.choice(list(model.vocab.keys()), sample)\n",
    "        else:\n",
    "            words = [ word for word in model.vocab ]\n",
    "        \n",
    "    word_vectors = np.array([model[w] for w in words])\n",
    "\n",
    "    twodim = PCA().fit_transform(word_vectors)[:,:2]\n",
    "    \n",
    "    plt.figure(figsize=(6,6))\n",
    "    plt.scatter(twodim[:,0], twodim[:,1], edgecolors='k', c='r')\n",
    "    for word, (x,y) in zip(words, twodim):\n",
    "        plt.text(x+0.05, y+0.05, word)\n",
    "    \n",
    "#display_pca_scatterplot(wv_1995, sample=100)"
   ]
  },
  {
   "cell_type": "markdown",
   "metadata": {},
   "source": [
    "Visualize embeddings for B1 where gender bias was identified"
   ]
  },
  {
   "cell_type": "code",
   "execution_count": null,
   "metadata": {},
   "outputs": [],
   "source": [
    "display_pca_scatterplot(wv_1995, [\"weiblich\",\"frau\",\"mädchen\",\"schwester\",\"sie\",\"ihr\",\"ihrer\",\"tochter\",\"mutter\",\"tante\",\"großmutter\",\"männlich\",\"mann\",\"junge\",\"bruder\",\"er\",\"ihm\",\"sein\",\"sohn\",\"vater\",\"onkel\",\"großvater\",\"führungskraft\",\"geschäftsführung\",\"profi\",\"unternehmen\",\"gehalt\",\"büro\",\"geschäft\",\"karriere\",\"zuhause\",\"eltern\",\"kinder\",\"familien\",\"cousins\",\"ehe\",\"hochzeit\",\"verwandte\"])\n",
    "plt.savefig('PCA/1995.png')"
   ]
  },
  {
   "cell_type": "code",
   "execution_count": null,
   "metadata": {},
   "outputs": [],
   "source": [
    "display_pca_scatterplot(wv_2010, [\"weiblich\",\"frau\",\"mädchen\",\"schwester\",\"sie\",\"ihr\",\"ihrer\",\"tochter\",\"mutter\",\"tante\",\"großmutter\",\"männlich\",\"mann\",\"junge\",\"bruder\",\"er\",\"ihm\",\"sein\",\"sohn\",\"vater\",\"onkel\",\"großvater\",\"führungskraft\",\"geschäftsführung\",\"profi\",\"unternehmen\",\"gehalt\",\"büro\",\"geschäft\",\"karriere\",\"zuhause\",\"eltern\",\"kinder\",\"familien\",\"cousins\",\"ehe\",\"hochzeit\",\"verwandte\"])\n",
    "plt.savefig('PCA/2010.png')"
   ]
  },
  {
   "cell_type": "code",
   "execution_count": null,
   "metadata": {},
   "outputs": [],
   "source": [
    "display_pca_scatterplot(wv_2020, [\"weiblich\",\"frau\",\"mädchen\",\"schwester\",\"sie\",\"ihr\",\"ihrer\",\"tochter\",\"mutter\",\"tante\",\"großmutter\",\"männlich\",\"mann\",\"junge\",\"bruder\",\"er\",\"ihm\",\"sein\",\"sohn\",\"vater\",\"onkel\",\"großvater\",\"führungskraft\",\"geschäftsführung\",\"profi\",\"unternehmen\",\"gehalt\",\"büro\",\"geschäft\",\"karriere\",\"zuhause\",\"eltern\",\"kinder\",\"familien\",\"cousins\",\"ehe\",\"hochzeit\",\"verwandte\"])\n",
    "plt.savefig('PCA/2020.png')"
   ]
  }
 ],
 "metadata": {
  "interpreter": {
   "hash": "a1e59edebc369ad65c119260e2f960d0c0cce7d7d487e1def8281e3e9d8bc7df"
  },
  "kernelspec": {
   "display_name": "Python 3.8.10 64-bit (system)",
   "name": "python3"
  },
  "language_info": {
   "codemirror_mode": {
    "name": "ipython",
    "version": 3
   },
   "file_extension": ".py",
   "mimetype": "text/x-python",
   "name": "python",
   "nbconvert_exporter": "python",
   "pygments_lexer": "ipython3",
   "version": "3.8.10"
  },
  "orig_nbformat": 4
 },
 "nbformat": 4,
 "nbformat_minor": 2
}
